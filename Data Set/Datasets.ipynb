{
 "cells": [
  {
   "cell_type": "markdown",
   "id": "a64a71fa-cc0b-41aa-9e3c-6e97d44d7ac2",
   "metadata": {},
   "source": [
    "## Split the datasets into training, testing and validation"
   ]
  },
  {
   "cell_type": "code",
   "execution_count": 3,
   "id": "cb6f27f4-e5b5-46ad-a7d0-a551d2f43453",
   "metadata": {},
   "outputs": [
    {
     "name": "stdout",
     "output_type": "stream",
     "text": [
      "Found 34 images in Maine Coon class.\n",
      "Train images: 23, Validation images: 5, Test images: 6\n",
      "Found 30 images in Persian class.\n",
      "Train images: 21, Validation images: 4, Test images: 5\n",
      "Found 45 images in Siamese class.\n",
      "Train images: 31, Validation images: 7, Test images: 7\n",
      "Data has been organized into train, val, and test directories.\n"
     ]
    }
   ],
   "source": [
    "import shutil\n",
    "from sklearn.model_selection import train_test_split\n",
    "import os\n",
    "\n",
    "# Define paths\n",
    "base_dir = r\"C:\\Users\\HP\\Desktop\\SEM 6\\PRINCIPLES OF AI ISB46703\\AI Project\\cats\"  \n",
    "train_dir = 'data/train'\n",
    "val_dir = 'data/val'\n",
    "test_dir = 'data/test'\n",
    "\n",
    "# Create directories\n",
    "os.makedirs(train_dir, exist_ok=True)\n",
    "os.makedirs(val_dir, exist_ok=True)\n",
    "os.makedirs(test_dir, exist_ok=True)\n",
    "\n",
    "# Already have class names\n",
    "classes = [d for d in os.listdir(base_dir) if os.path.isdir(os.path.join(base_dir, d))]\n",
    "\n",
    "# Create subdirectories for each class in train, val, and test directories\n",
    "for class_name in classes:\n",
    "    os.makedirs(os.path.join(train_dir, class_name), exist_ok=True)\n",
    "    os.makedirs(os.path.join(val_dir, class_name), exist_ok=True)\n",
    "    os.makedirs(os.path.join(test_dir, class_name), exist_ok=True)\n",
    "\n",
    "# Split the data\n",
    "for class_name in classes:\n",
    "    class_dir = os.path.join(base_dir, class_name)\n",
    "    images = [os.path.join(class_dir, img) for img in os.listdir(class_dir) if img.endswith(('jpg', 'jpeg', 'png'))]\n",
    "    \n",
    "    print(f\"Found {len(images)} images in {class_name} class.\")\n",
    "    \n",
    "    train_images, test_images = train_test_split(images, test_size=0.3, random_state=42)\n",
    "    val_images, test_images = train_test_split(test_images, test_size=0.5, random_state=42)\n",
    "    \n",
    "    print(f\"Train images: {len(train_images)}, Validation images: {len(val_images)}, Test images: {len(test_images)}\")\n",
    "    \n",
    "    for img in train_images:\n",
    "        shutil.copy(img, os.path.join(train_dir, class_name, os.path.basename(img)))\n",
    "    for img in val_images:\n",
    "        shutil.copy(img, os.path.join(val_dir, class_name, os.path.basename(img)))\n",
    "    for img in test_images:\n",
    "        shutil.copy(img, os.path.join(test_dir, class_name, os.path.basename(img)))\n",
    "\n",
    "print(\"Data has been organized into train, val, and test directories.\")\n"
   ]
  },
  {
   "cell_type": "code",
   "execution_count": null,
   "id": "4f972b41-2fbf-4c87-83f0-47794e5a7da6",
   "metadata": {},
   "outputs": [],
   "source": []
  }
 ],
 "metadata": {
  "kernelspec": {
   "display_name": "Python 3 (ipykernel)",
   "language": "python",
   "name": "python3"
  },
  "language_info": {
   "codemirror_mode": {
    "name": "ipython",
    "version": 3
   },
   "file_extension": ".py",
   "mimetype": "text/x-python",
   "name": "python",
   "nbconvert_exporter": "python",
   "pygments_lexer": "ipython3",
   "version": "3.8.19"
  }
 },
 "nbformat": 4,
 "nbformat_minor": 5
}
